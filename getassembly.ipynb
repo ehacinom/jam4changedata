{
 "metadata": {
  "name": "",
  "signature": "sha256:b3494700ffa28a527816e080b83d2dbc6f19c1414cc727759d455f09201344b2"
 },
 "nbformat": 3,
 "nbformat_minor": 0,
 "worksheets": [
  {
   "cells": [
    {
     "cell_type": "code",
     "collapsed": false,
     "input": [
      "import urllib\n",
      "import lxml\n",
      "from bs4 import BeautifulSoup\n",
      "import re"
     ],
     "language": "python",
     "metadata": {},
     "outputs": [],
     "prompt_number": 193
    },
    {
     "cell_type": "code",
     "collapsed": false,
     "input": [
      "def load_txt(url):\n",
      "    \"\"\"\n",
      "    Grab text from url\n",
      "\n",
      "    INPUT\n",
      "    url of text/xml data\n",
      "\n",
      "    OUTPUT\n",
      "    text/xml data\n",
      "\n",
      "    \"\"\"\n",
      "    # load txt\n",
      "    fp = urllib.urlopen(url)\n",
      "    text = fp.read()\n",
      "    fp.close()\n",
      "\n",
      "    return text"
     ],
     "language": "python",
     "metadata": {},
     "outputs": [],
     "prompt_number": 194
    },
    {
     "cell_type": "code",
     "collapsed": false,
     "input": [
      "def get_assembly(out = 'assembly.csv'):\n",
      "    \"\"\"\n",
      "    Get all data for Representatives\n",
      "    \n",
      "    INPUT\n",
      "    out the output file\n",
      "    \n",
      "    SAVE TO FILE out\n",
      "    data\n",
      "    \n",
      "    SAVE TO FILE assembly_list.txt\n",
      "    names of all the representatives\n",
      "    \n",
      "    TO DO\n",
      "    Get website\n",
      "    Go to website, get committees\n",
      "        maybe more info?\n",
      "        \n",
      "    \"\"\"\n",
      "    \n",
      "    assembly = []\n",
      "    \n",
      "    # get html\n",
      "    url = 'https://docs.legis.wisconsin.gov/2015/legislators/assembly'\n",
      "    text = load_txt(url)\n",
      "    \n",
      "    # parse html\n",
      "    parser = BeautifulSoup(text, \"lxml\")\n",
      "    info = parser.body.find_all('div', attrs={'class':'rounded'})\n",
      "    \n",
      "    # set up regex\n",
      "    # https://regex101.com/r/3JOnrh/1\n",
      "    regex = r'\\n(.+?), (.+?) \\(([R|D]) - (.+?)\\)\\s+(.+|)\\s+District (\\d+?)\\n\\n' + \\\n",
      "            r'Details\\s+(Website|)\\s+Madison Office:\\n\\s+(.+)\\s+Telephone:\\n\\s+(.+)\\s+' + \\\n",
      "            r'Fax:\\n\\s+(.+)\\s+(District Phone:\\n(.+)|)\\s+Email:\\n(.+)\\s+' + \\\n",
      "            r'(Voting Address:\\n\\s+(.+)|)\\s+(Staff:\\n((.|\\n)+)|)'\n",
      "    regexp = re.compile(regex)\n",
      "    \n",
      "    # for each representative\n",
      "    for inf in info:\n",
      "        # ignore class=\"breadcrumb rounded\"\n",
      "        if inf['class'][0] == 'breadcrumb': continue\n",
      "        \n",
      "        # match for each representative's data\n",
      "        match = regexp.search(inf.text)\n",
      "        \n",
      "        # check\n",
      "        if not match:\n",
      "            print \"WARNING\"\n",
      "            print \"No data parsed for representative. HTML below.\"\n",
      "            print inf.text\n",
      "            print \"----------\"\n",
      "        \n",
      "        # edit data\n",
      "        rep = edit_assembly(match)\n",
      "        assembly.append(rep)\n",
      "        \n",
      "    print len(assembly)\n",
      "    return assembly"
     ],
     "language": "python",
     "metadata": {},
     "outputs": [],
     "prompt_number": 201
    },
    {
     "cell_type": "code",
     "collapsed": false,
     "input": [
      "def edit_assembly(match):\n",
      "    \"\"\"\n",
      "    Reduce data for Representatives\n",
      "    \n",
      "    INPUT\n",
      "    match the regex serach matches, retrieve with match.group(i)\n",
      "    \n",
      "    OUTPUT\n",
      "    rep, 1 LastName 0\n",
      "         2 FirstName 1 \n",
      "         3 Party 2\n",
      "         4 City 3\n",
      "         5 Position 4\n",
      "         6 District 5\n",
      "         7 \n",
      "         8 MadisonOffice 6\n",
      "         9 Telephone 7\n",
      "         10 Fax 8\n",
      "         11 \n",
      "         12 DistrictPhone 9\n",
      "         13 Email 10\n",
      "         14 \n",
      "         15 VotingAddress 11\n",
      "         16 \n",
      "         17 Staff 12\n",
      "        \n",
      "    TO DO\n",
      "    Clean up addresses/numbers/other fields in rep\n",
      "    \n",
      "    \"\"\"\n",
      "    \n",
      "    rep = []\n",
      "    \n",
      "    index = [1,2,3,4,5,6,8,9,10,12,13,15,17]\n",
      "    for i in index:\n",
      "        try:\n",
      "            tmp = match.group(i)\n",
      "        except IndexError:\n",
      "            rep.append(None)\n",
      "            continue\n",
      "        \n",
      "        if not tmp:\n",
      "            rep.append(None)\n",
      "            continue\n",
      "        \n",
      "        if i == 8 or i == 15:\n",
      "            # Room 113 NorthState CapitolP.O. Box 8952Madison, WI 53708\n",
      "            # 10 Division St.Milton, WI 53563\n",
      "            tmp = re.sub(r'([a-z]|\\d|\\.)([A-Z])', r'\\1 \\2', tmp)\n",
      "\n",
      "        elif i == 9:\n",
      "            # (608) 266-3790(888) 534-0043\n",
      "            tmp = re.sub(r'(\\d)\\(', r'\\1, (', tmp)\n",
      "        elif i == 17 and tmp:\n",
      "            tmp = filter(None, tmp.rstrip().split('\\n'))\n",
      "            tmp = [(tmp[j], tmp[j+1]) for j in xrange(0, len(tmp), 2)]\n",
      "        \n",
      "        rep.append(tmp)\n",
      "    \n",
      "    return rep"
     ],
     "language": "python",
     "metadata": {},
     "outputs": [],
     "prompt_number": 217
    },
    {
     "cell_type": "code",
     "collapsed": false,
     "input": [
      "x = get_assembly()"
     ],
     "language": "python",
     "metadata": {},
     "outputs": [
      {
       "output_type": "stream",
       "stream": "stdout",
       "text": [
        "99\n"
       ]
      }
     ],
     "prompt_number": 218
    },
    {
     "cell_type": "code",
     "collapsed": false,
     "input": [
      "for t in x[0]:\n",
      "    print repr(t)"
     ],
     "language": "python",
     "metadata": {},
     "outputs": [
      {
       "output_type": "stream",
       "stream": "stdout",
       "text": [
        "u'Allen'\n",
        "u'Scott'\n",
        "u'R'\n",
        "u'Waukesha'\n",
        "None\n",
        "u'97'\n",
        "u'Room 8 West State Capitol P. O. Box 8952 Madison, WI 53708'\n",
        "u'(608) 266-8580, (888) 534-0097'\n",
        "u'(608) 282-3697'\n",
        "None\n",
        "u'Rep.Allen@legis.wisconsin.gov'\n",
        "u'S42 W25312 Dale Dr. Waukesha, WI 53189'\n",
        "[(u'Tyler Longsine', u'Tyler.Longsine@legis.wisconsin.gov')]\n"
       ]
      }
     ],
     "prompt_number": 219
    },
    {
     "cell_type": "code",
     "collapsed": false,
     "input": [
      "for t in x[0]:\n",
      "    print repr(t)"
     ],
     "language": "python",
     "metadata": {},
     "outputs": [
      {
       "output_type": "stream",
       "stream": "stdout",
       "text": [
        "u'Allen'\n",
        "u'Scott'\n",
        "u'R'\n",
        "u'Waukesha'\n",
        "u'97'\n",
        "u'Room 8 WestState CapitolP.O. Box 8952Madison, WI 53708'\n",
        "u'(608) 266-8580(888) 534-0097'\n",
        "u'(608) 282-3697'\n",
        "u'Rep.Allen@legis.wisconsin.gov'\n",
        "u'S42 W25312 Dale Dr.Waukesha, WI 53189'\n",
        "[u'Tyler Longsine', u'Tyler.Longsine@legis.wisconsin.gov']\n"
       ]
      }
     ],
     "prompt_number": 125
    },
    {
     "cell_type": "code",
     "collapsed": false,
     "input": [],
     "language": "python",
     "metadata": {},
     "outputs": [],
     "prompt_number": 74
    },
    {
     "cell_type": "code",
     "collapsed": false,
     "input": [],
     "language": "python",
     "metadata": {},
     "outputs": []
    }
   ],
   "metadata": {}
  }
 ]
}