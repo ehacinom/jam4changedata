{
 "metadata": {
  "name": "",
  "signature": "sha256:572fc6006cb991d929bec65c6e73b242bdaec0c3494c611640281d3bdde15dfa"
 },
 "nbformat": 3,
 "nbformat_minor": 0,
 "worksheets": [
  {
   "cells": [
    {
     "cell_type": "code",
     "collapsed": false,
     "input": [
      "from getcommittee import GetCommittee\n",
      "GetCommittee()"
     ],
     "language": "python",
     "metadata": {},
     "outputs": [
      {
       "output_type": "stream",
       "stream": "stdout",
       "text": [
        "WARNING\n",
        "Missing info in get_committee_info, still added.\n",
        "[u'Study Committee on the Review of the Wisconsin Technical College System Funding and Governance', 'Joint', u'http://docs.legis.wisconsin.gov/2015/committees/joint/1387/020_march_18_2015_meeting/004_study_committee_on_the_review_of_wisconsin_technical_college_system_funding_and_governance_http_docs_legis_wisconsin_gov_misc_lc_study_2014_1193']\n",
        "--------------\n",
        "WARNING"
       ]
      },
      {
       "output_type": "stream",
       "stream": "stdout",
       "text": [
        "\n",
        "Missing info in get_committee_info, still added.\n",
        "[u'Special Committee on State-Tribal Relations', 'Joint', u'http://docs.legis.wisconsin.gov/2015/committees/joint/1387/020_march_18_2015_meeting/003_special_committee_on_state_tribal_relations_http_docs_legis_wisconsin_gov_misc_lc_study_2014_1198']\n",
        "--------------\n",
        "WARNING"
       ]
      },
      {
       "output_type": "stream",
       "stream": "stdout",
       "text": [
        "\n",
        "Missing info in get_committee_info, still added.\n",
        "[u'Study Committee on Transfer of Structured Settlement Payments', 'Joint', u'http://docs.legis.wisconsin.gov/2015/committees/joint/1387/020_march_18_2015_meeting/001_study_committee_on_transfer_of_structured_settlement_payments_http_docs_legis_wisconsin_gov_misc_lc_study_2014_1195']\n",
        "--------------\n",
        "WARNING"
       ]
      },
      {
       "output_type": "stream",
       "stream": "stdout",
       "text": [
        "\n",
        "Missing info in get_committee_info, still added.\n",
        "[u'Study Committee on the Review of Wisconsin Technical College System Funding and Governance', 'Joint', u'http://docs.legis.wisconsin.gov/2015/committees/joint/1387/020_march_18_2015_meeting/002_study_committee_on_review_of_criminal_penalties_http_docs_legis_wisconsin_gov_misc_lc_study_2014_1191']\n",
        "--------------\n",
        "WARNING"
       ]
      },
      {
       "output_type": "stream",
       "stream": "stdout",
       "text": [
        "\n",
        "Missing info in get_committee_info, still added.\n",
        "[u'Study Committee on the Review of Tax Incremental Financing', 'Joint', u'http://docs.legis.wisconsin.gov/2015/committees/joint/1387/010_february_11_2015_meeting/004_study_committee_on_the_review_of_tax_incremental_financing_http_docs_legis_wisconsin_gov_misc_lc_study_2014_1192']\n",
        "--------------\n",
        "WARNING"
       ]
      },
      {
       "output_type": "stream",
       "stream": "stdout",
       "text": [
        "\n",
        "Missing info in get_committee_info, still added.\n",
        "[u'Study Committee on Adoption Disruption and Dissolution', 'Joint', u'http://docs.legis.wisconsin.gov/2015/committees/joint/1387/010_february_11_2015_meeting/003_study_committee_on_adoption_disruption_and_dissolution_http_docs_legis_wisconsin_gov_misc_lc_study_2014_1189']\n",
        "--------------\n",
        "WARNING"
       ]
      },
      {
       "output_type": "stream",
       "stream": "stdout",
       "text": [
        "\n",
        "Missing info in get_committee_info, still added.\n",
        "[u'Study Committee on Problem-Solving Courts, Alternatives, and Diversions', 'Joint', u'http://docs.legis.wisconsin.gov/2015/committees/joint/1387/010_february_11_2015_meeting/002_study_committee_on_problem_solving_courts_alternatives_and_diversions_http_docs_legis_wisconsin_gov_misc_lc_study_2014_1190']\n",
        "--------------\n",
        "WARNING"
       ]
      },
      {
       "output_type": "stream",
       "stream": "stdout",
       "text": [
        "\n",
        "Missing info in get_committee_info, still added.\n",
        "[u'Study Committee on the Student Achievement in Education (SAGE) Program', 'Joint', u'http://docs.legis.wisconsin.gov/2015/committees/joint/1387/010_february_11_2015_meeting/001_study_committee_on_the_student_achievement_in_education_sage_program_http_docs_legis_wisconsin_gov_misc_lc_study_2014_1194']\n",
        "--------------\n",
        "WARNING"
       ]
      },
      {
       "output_type": "stream",
       "stream": "stdout",
       "text": [
        "\n",
        "Missing committee chairs (new year), still added.\n",
        "['2015 University of Wisconsin Hospitals and Clinics Authority']\n",
        "--------------\n",
        "WARNING"
       ]
      },
      {
       "output_type": "stream",
       "stream": "stdout",
       "text": [
        "\n",
        "Missing committee chairs (new year), still added.\n",
        "['2015 Read to Lead Development Council']\n",
        "--------------\n",
        "WARNING"
       ]
      },
      {
       "output_type": "stream",
       "stream": "stdout",
       "text": [
        "\n",
        "Missing committee chairs (new year), still added.\n",
        "['2015 Sporting Heritage Council']\n",
        "--------------\n",
        "WARNING"
       ]
      },
      {
       "output_type": "stream",
       "stream": "stdout",
       "text": [
        "\n",
        "Missing committee chairs (new year), still added.\n",
        "['2015 Midwestern Higher Education Commission']\n",
        "--------------\n"
       ]
      },
      {
       "metadata": {},
       "output_type": "pyout",
       "prompt_number": 1,
       "text": [
        "<getcommittee.GetCommittee at 0x10f8dd690>"
       ]
      }
     ],
     "prompt_number": 1
    },
    {
     "cell_type": "code",
     "collapsed": false,
     "input": [
      "from gethouse import GetHouse\n",
      "GetHouse('assembly', 2015)"
     ],
     "language": "python",
     "metadata": {},
     "outputs": [
      {
       "output_type": "stream",
       "stream": "stdout",
       "text": [
        "99\n"
       ]
      },
      {
       "metadata": {},
       "output_type": "pyout",
       "prompt_number": 1,
       "text": [
        "<gethouse.GetHouse at 0x10b32d750>"
       ]
      }
     ],
     "prompt_number": 1
    },
    {
     "cell_type": "code",
     "collapsed": false,
     "input": [
      "from gethouse import GetHouse\n",
      "GetHouse('assembly', 2017)\n",
      "# GetHouse('senate', 2017)"
     ],
     "language": "python",
     "metadata": {},
     "outputs": [
      {
       "ename": "IndexError",
       "evalue": "list index out of range",
       "output_type": "pyerr",
       "traceback": [
        "\u001b[0;31m---------------------------------------------------------------------------\u001b[0m\n\u001b[0;31mIndexError\u001b[0m                                Traceback (most recent call last)",
        "\u001b[0;32m<ipython-input-2-6e1c9f5eee61>\u001b[0m in \u001b[0;36m<module>\u001b[0;34m()\u001b[0m\n\u001b[1;32m      1\u001b[0m \u001b[0;32mfrom\u001b[0m \u001b[0mgethouse\u001b[0m \u001b[0;32mimport\u001b[0m \u001b[0mGetHouse\u001b[0m\u001b[0;34m\u001b[0m\u001b[0m\n\u001b[0;32m----> 2\u001b[0;31m \u001b[0mGetHouse\u001b[0m\u001b[0;34m(\u001b[0m\u001b[0;34m'assembly'\u001b[0m\u001b[0;34m,\u001b[0m \u001b[0;36m2017\u001b[0m\u001b[0;34m)\u001b[0m\u001b[0;34m\u001b[0m\u001b[0m\n\u001b[0m\u001b[1;32m      3\u001b[0m \u001b[0;31m# GetHouse('senate', 2017)\u001b[0m\u001b[0;34m\u001b[0m\u001b[0;34m\u001b[0m\u001b[0m\n",
        "\u001b[0;32m/Users/Silverbells/Documents/jam4change/jam4changedata/gethouse.py\u001b[0m in \u001b[0;36m__init__\u001b[0;34m(self, out, year)\u001b[0m\n\u001b[1;32m    166\u001b[0m                 \u001b[0;32mif\u001b[0m \u001b[0mmatch\u001b[0m\u001b[0;34m:\u001b[0m\u001b[0;34m\u001b[0m\u001b[0m\n\u001b[1;32m    167\u001b[0m                     \u001b[0;31m# retrieve data\u001b[0m\u001b[0;34m\u001b[0m\u001b[0;34m\u001b[0m\u001b[0m\n\u001b[0;32m--> 168\u001b[0;31m                     \u001b[0mrep\u001b[0m \u001b[0;34m=\u001b[0m \u001b[0mself\u001b[0m\u001b[0;34m.\u001b[0m\u001b[0medit_left\u001b[0m\u001b[0;34m(\u001b[0m\u001b[0mmatch\u001b[0m\u001b[0;34m)\u001b[0m\u001b[0;34m\u001b[0m\u001b[0m\n\u001b[0m\u001b[1;32m    169\u001b[0m                 \u001b[0;32melse\u001b[0m\u001b[0;34m:\u001b[0m\u001b[0;34m\u001b[0m\u001b[0m\n\u001b[1;32m    170\u001b[0m                     \u001b[0mwarn\u001b[0m \u001b[0;34m=\u001b[0m \u001b[0;34m'No data parsed for representative. No regex match.'\u001b[0m\u001b[0;34m\u001b[0m\u001b[0m\n",
        "\u001b[0;32m/Users/Silverbells/Documents/jam4change/jam4changedata/gethouse.py\u001b[0m in \u001b[0;36medit_left\u001b[0;34m(self, match)\u001b[0m\n\u001b[1;32m    401\u001b[0m         \u001b[0;31m# Email, Staff, Committees, Biography\u001b[0m\u001b[0;34m\u001b[0m\u001b[0;34m\u001b[0m\u001b[0m\n\u001b[1;32m    402\u001b[0m         \u001b[0mrep\u001b[0m\u001b[0;34m[\u001b[0m\u001b[0;36m10\u001b[0m\u001b[0;34m]\u001b[0m \u001b[0;34m=\u001b[0m \u001b[0mself\u001b[0m\u001b[0;34m.\u001b[0m\u001b[0medit_email\u001b[0m\u001b[0;34m(\u001b[0m\u001b[0mrep\u001b[0m\u001b[0;34m[\u001b[0m\u001b[0;36m10\u001b[0m\u001b[0;34m]\u001b[0m\u001b[0;34m)\u001b[0m\u001b[0;34m\u001b[0m\u001b[0m\n\u001b[0;32m--> 403\u001b[0;31m         \u001b[0mrep\u001b[0m\u001b[0;34m[\u001b[0m\u001b[0;36m13\u001b[0m\u001b[0;34m]\u001b[0m \u001b[0;34m=\u001b[0m \u001b[0mself\u001b[0m\u001b[0;34m.\u001b[0m\u001b[0medit_staff\u001b[0m\u001b[0;34m(\u001b[0m\u001b[0mrep\u001b[0m\u001b[0;34m[\u001b[0m\u001b[0;36m13\u001b[0m\u001b[0;34m]\u001b[0m\u001b[0;34m)\u001b[0m\u001b[0;34m\u001b[0m\u001b[0m\n\u001b[0m\u001b[1;32m    404\u001b[0m         \u001b[0mrep\u001b[0m\u001b[0;34m[\u001b[0m\u001b[0;36m14\u001b[0m\u001b[0;34m]\u001b[0m \u001b[0;34m=\u001b[0m \u001b[0mself\u001b[0m\u001b[0;34m.\u001b[0m\u001b[0medit_com\u001b[0m\u001b[0;34m(\u001b[0m\u001b[0mrep\u001b[0m\u001b[0;34m[\u001b[0m\u001b[0;36m14\u001b[0m\u001b[0;34m]\u001b[0m\u001b[0;34m)\u001b[0m\u001b[0;34m\u001b[0m\u001b[0m\n\u001b[1;32m    405\u001b[0m         \u001b[0mrep\u001b[0m\u001b[0;34m[\u001b[0m\u001b[0;36m15\u001b[0m\u001b[0;34m]\u001b[0m \u001b[0;34m=\u001b[0m \u001b[0mself\u001b[0m\u001b[0;34m.\u001b[0m\u001b[0medit_bio\u001b[0m\u001b[0;34m(\u001b[0m\u001b[0mrep\u001b[0m\u001b[0;34m[\u001b[0m\u001b[0;36m15\u001b[0m\u001b[0;34m]\u001b[0m\u001b[0;34m)\u001b[0m\u001b[0;34m\u001b[0m\u001b[0m\n",
        "\u001b[0;32m/Users/Silverbells/Documents/jam4change/jam4changedata/gethouse.py\u001b[0m in \u001b[0;36medit_staff\u001b[0;34m(self, txt)\u001b[0m\n\u001b[1;32m    325\u001b[0m         \u001b[0;32mfor\u001b[0m \u001b[0mj\u001b[0m \u001b[0;32min\u001b[0m \u001b[0mxrange\u001b[0m\u001b[0;34m(\u001b[0m\u001b[0;36m0\u001b[0m\u001b[0;34m,\u001b[0m \u001b[0mlen\u001b[0m\u001b[0;34m(\u001b[0m\u001b[0mstaff\u001b[0m\u001b[0;34m)\u001b[0m\u001b[0;34m,\u001b[0m \u001b[0;36m2\u001b[0m\u001b[0;34m)\u001b[0m\u001b[0;34m:\u001b[0m\u001b[0;34m\u001b[0m\u001b[0m\n\u001b[1;32m    326\u001b[0m             \u001b[0;31m# email tag\u001b[0m\u001b[0;34m\u001b[0m\u001b[0;34m\u001b[0m\u001b[0m\n\u001b[0;32m--> 327\u001b[0;31m             \u001b[0mtag\u001b[0m \u001b[0;34m=\u001b[0m \u001b[0mstaff\u001b[0m\u001b[0;34m[\u001b[0m\u001b[0mj\u001b[0m\u001b[0;34m+\u001b[0m\u001b[0;36m1\u001b[0m\u001b[0;34m]\u001b[0m\u001b[0;34m.\u001b[0m\u001b[0msplit\u001b[0m\u001b[0;34m(\u001b[0m\u001b[0;34m'@'\u001b[0m\u001b[0;34m)\u001b[0m\u001b[0;34m[\u001b[0m\u001b[0;36m0\u001b[0m\u001b[0;34m]\u001b[0m\u001b[0;34m\u001b[0m\u001b[0m\n\u001b[0m\u001b[1;32m    328\u001b[0m \u001b[0;34m\u001b[0m\u001b[0m\n\u001b[1;32m    329\u001b[0m             \u001b[0;32mif\u001b[0m \u001b[0mtag\u001b[0m \u001b[0;34m==\u001b[0m \u001b[0mstaff\u001b[0m\u001b[0;34m[\u001b[0m\u001b[0mj\u001b[0m\u001b[0;34m]\u001b[0m\u001b[0;34m.\u001b[0m\u001b[0mreplace\u001b[0m\u001b[0;34m(\u001b[0m\u001b[0;34m' '\u001b[0m\u001b[0;34m,\u001b[0m \u001b[0;34m'.'\u001b[0m\u001b[0;34m)\u001b[0m\u001b[0;34m:\u001b[0m\u001b[0;34m\u001b[0m\u001b[0m\n",
        "\u001b[0;31mIndexError\u001b[0m: list index out of range"
       ]
      }
     ],
     "prompt_number": 2
    },
    {
     "cell_type": "code",
     "collapsed": false,
     "input": [
      "from gethouse import GetHouse\n",
      "# GetHouse('assembly', 2015)\n",
      "GetHouse('senate', 2017)"
     ],
     "language": "python",
     "metadata": {},
     "outputs": [
      {
       "output_type": "stream",
       "stream": "stdout",
       "text": [
        "WARNING\n",
        "No data parsed for representative. No regex match.\n",
        "Adding it in for now because I want happiness for\n",
        "my var house and therefore my indexing ID.\n",
        "http://docs.legis.wisconsin.gov/2017/legislators/senate/1644\n",
        "\n",
        "\n",
        "\n",
        "\n",
        "Senator Dan Feyen\n",
        "\n",
        "Senate District 18 \n",
        "\n",
        "Senator Dan Feyen's Home Page\n",
        "\n",
        "District map based on 2011 Wisconsin Act 43\n",
        "\n",
        "Subscribe to updates via Notify  \n",
        "2017 authored proposals feed \n",
        "\n",
        "2017 all related items feed \n",
        "\n",
        "2017 author index\n",
        "\n",
        "Historical information\n",
        "\n",
        "\n",
        "Madison Office:\n",
        "          Room 306 SouthState CapitolMadison, WI 53707-7882\n",
        "      \n",
        "Telephone:\n",
        "          (608) 266-5300\n",
        "\n",
        "Email:\n",
        "Sen.Feyen@legis.wi.gov\n",
        "\n",
        "Voting Address:\n",
        "          PO Box 1768Fond du Lac, WI 54936\n",
        "      \n",
        "Staff:\n",
        "Rohn Bishop\n",
        "Rohn.Bishop@legis.wisconsin.gov\n",
        "\n",
        "Marie Jolly\n",
        "Marie.Jolly@legis.wisconsin.gov\n",
        "\n",
        "Tim Lakin\n",
        "Tim.Lakin@legis.wisconsin.gov\n",
        "\n",
        "Gregory Quella\n",
        "Gregory.Quella@legis.wisconsin.gov\n",
        "\n",
        "\n",
        "\n",
        "Current Committees\n",
        "Committee on Economic Development, Commerce and Local Government (Chair)\n",
        "Committee on Financial Services, Constitution and Federalism\n",
        "Committee on Universities and Technical Colleges\n",
        "Committee on Workforce Development, Military Affairs and Senior Issues (Vice-Chair)\n",
        "Joint Survey Committee on Tax Exemptions (Co-Chair)\n",
        "\n",
        "\n",
        "Biography\n",
        "Member of Wisconsin Economic Development Corporation\n",
        "\n",
        "\n",
        "\n",
        "--------------\n",
        "WARNING"
       ]
      },
      {
       "output_type": "stream",
       "stream": "stdout",
       "text": [
        "\n",
        "No data parsed for representative. No regex match.\n",
        "Adding it in for now because I want happiness for\n",
        "my var house and therefore my indexing ID.\n",
        "http://docs.legis.wisconsin.gov/2017/legislators/senate/1645\n",
        "\n",
        "\n",
        "\n",
        "\n",
        "Senator Patrick Testin\n",
        "\n",
        "Senate District 24 \n",
        "\n",
        "District map based on 2011 Wisconsin Act 43\n",
        "\n",
        "Subscribe to updates via Notify  \n",
        "2017 authored proposals feed \n",
        "\n",
        "2017 all related items feed \n",
        "\n",
        "2017 author index\n",
        "\n",
        "Historical information\n",
        "\n",
        "\n",
        "Madison Office:\n",
        "          Room 131 SouthState CapitolMadison, WI 53707-7882\n",
        "      \n",
        "Telephone:\n",
        "          (608) 266-3123\n",
        "\n",
        "Fax:\n",
        "          (608) 282-3564\n",
        "      \n",
        "Email:\n",
        "Sen.Testin@legis.wi.gov\n",
        "\n",
        "Voting Address:\n",
        "          5369 Fairview DriveStevens Point, WI 54482\n",
        "      \n",
        "Staff:\n",
        "Natalie Aicher\n",
        "Natalie.Aicher@legis.wisconsin.gov\n",
        "\n",
        "James Emerson\n",
        "James.Emerson@legis.wisconsin.gov\n",
        "\n",
        "Jeff Schultz\n",
        "Jeff.Schultz@legis.wisconsin.gov\n",
        "\n",
        "Matt Spencer\n",
        "Matt.Spencer@legis.wisconsin.gov\n",
        "\n",
        "\n",
        "\n",
        "Current Committees\n",
        "Committee on Agriculture, Small Business and Tourism\n",
        "Committee on Economic Development, Commerce and Local Government\n",
        "Committee on Judiciary and Public Safety (Vice-Chair)\n",
        "Committee on Sporting Heritage, Mining and Forestry (Vice-Chair)\n",
        "Committee on Workforce Development, Military Affairs and Senior Issues (Chair)\n",
        "Joint Survey Committee on Retirement Systems (Co-Chair)\n",
        "\n",
        "\n",
        "Biography\n",
        "Member of Interstate Compact on Educational Opportunity for Military Children, State Council on and Military and State Relations, Council on\n",
        "\n",
        "\n",
        "\n",
        "--------------\n",
        "33"
       ]
      },
      {
       "output_type": "stream",
       "stream": "stdout",
       "text": [
        "\n"
       ]
      },
      {
       "metadata": {},
       "output_type": "pyout",
       "prompt_number": 1,
       "text": [
        "<gethouse.GetHouse at 0x10995b7d0>"
       ]
      }
     ],
     "prompt_number": 1
    },
    {
     "cell_type": "code",
     "collapsed": false,
     "input": [],
     "language": "python",
     "metadata": {},
     "outputs": []
    }
   ],
   "metadata": {}
  }
 ]
}