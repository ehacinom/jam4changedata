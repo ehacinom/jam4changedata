{
 "metadata": {
  "name": "",
  "signature": "sha256:a18999253813a40f6cb61af1ff3679290ae614e5384e410bc0e887992fd0935e"
 },
 "nbformat": 3,
 "nbformat_minor": 0,
 "worksheets": [
  {
   "cells": [
    {
     "cell_type": "code",
     "collapsed": false,
     "input": [
      "from getcommittee import GetCommittee\n",
      "GetCommittee()"
     ],
     "language": "python",
     "metadata": {},
     "outputs": [
      {
       "output_type": "stream",
       "stream": "stdout",
       "text": [
        "WARNING\n",
        "Missing info in get_committee_info, still added.\n",
        "[u'Study Committee on the Review of the Wisconsin Technical College System Funding and Governance', 'Joint', u'http://docs.legis.wisconsin.gov/2015/committees/joint/1387/020_march_18_2015_meeting/004_study_committee_on_the_review_of_wisconsin_technical_college_system_funding_and_governance_http_docs_legis_wisconsin_gov_misc_lc_study_2014_1193']\n",
        "--------------\n",
        "WARNING"
       ]
      },
      {
       "output_type": "stream",
       "stream": "stdout",
       "text": [
        "\n",
        "Missing info in get_committee_info, still added.\n",
        "[u'Special Committee on State-Tribal Relations', 'Joint', u'http://docs.legis.wisconsin.gov/2015/committees/joint/1387/020_march_18_2015_meeting/003_special_committee_on_state_tribal_relations_http_docs_legis_wisconsin_gov_misc_lc_study_2014_1198']\n",
        "--------------\n",
        "WARNING"
       ]
      },
      {
       "output_type": "stream",
       "stream": "stdout",
       "text": [
        "\n",
        "Missing info in get_committee_info, still added.\n",
        "[u'Study Committee on Transfer of Structured Settlement Payments', 'Joint', u'http://docs.legis.wisconsin.gov/2015/committees/joint/1387/020_march_18_2015_meeting/001_study_committee_on_transfer_of_structured_settlement_payments_http_docs_legis_wisconsin_gov_misc_lc_study_2014_1195']\n",
        "--------------\n",
        "WARNING"
       ]
      },
      {
       "output_type": "stream",
       "stream": "stdout",
       "text": [
        "\n",
        "Missing info in get_committee_info, still added.\n",
        "[u'Study Committee on the Review of Wisconsin Technical College System Funding and Governance', 'Joint', u'http://docs.legis.wisconsin.gov/2015/committees/joint/1387/020_march_18_2015_meeting/002_study_committee_on_review_of_criminal_penalties_http_docs_legis_wisconsin_gov_misc_lc_study_2014_1191']\n",
        "--------------\n",
        "WARNING"
       ]
      },
      {
       "output_type": "stream",
       "stream": "stdout",
       "text": [
        "\n",
        "Missing info in get_committee_info, still added.\n",
        "[u'Study Committee on the Review of Tax Incremental Financing', 'Joint', u'http://docs.legis.wisconsin.gov/2015/committees/joint/1387/010_february_11_2015_meeting/004_study_committee_on_the_review_of_tax_incremental_financing_http_docs_legis_wisconsin_gov_misc_lc_study_2014_1192']\n",
        "--------------\n",
        "WARNING"
       ]
      },
      {
       "output_type": "stream",
       "stream": "stdout",
       "text": [
        "\n",
        "Missing info in get_committee_info, still added.\n",
        "[u'Study Committee on Adoption Disruption and Dissolution', 'Joint', u'http://docs.legis.wisconsin.gov/2015/committees/joint/1387/010_february_11_2015_meeting/003_study_committee_on_adoption_disruption_and_dissolution_http_docs_legis_wisconsin_gov_misc_lc_study_2014_1189']\n",
        "--------------\n",
        "WARNING"
       ]
      },
      {
       "output_type": "stream",
       "stream": "stdout",
       "text": [
        "\n",
        "Missing info in get_committee_info, still added.\n",
        "[u'Study Committee on Problem-Solving Courts, Alternatives, and Diversions', 'Joint', u'http://docs.legis.wisconsin.gov/2015/committees/joint/1387/010_february_11_2015_meeting/002_study_committee_on_problem_solving_courts_alternatives_and_diversions_http_docs_legis_wisconsin_gov_misc_lc_study_2014_1190']\n",
        "--------------\n",
        "WARNING"
       ]
      },
      {
       "output_type": "stream",
       "stream": "stdout",
       "text": [
        "\n",
        "Missing info in get_committee_info, still added.\n",
        "[u'Study Committee on the Student Achievement in Education (SAGE) Program', 'Joint', u'http://docs.legis.wisconsin.gov/2015/committees/joint/1387/010_february_11_2015_meeting/001_study_committee_on_the_student_achievement_in_education_sage_program_http_docs_legis_wisconsin_gov_misc_lc_study_2014_1194']\n",
        "--------------\n",
        "WARNING"
       ]
      },
      {
       "output_type": "stream",
       "stream": "stdout",
       "text": [
        "\n",
        "Missing committee chairs (new year), still added.\n",
        "['2015 University of Wisconsin Hospitals and Clinics Authority']\n",
        "--------------\n",
        "WARNING"
       ]
      },
      {
       "output_type": "stream",
       "stream": "stdout",
       "text": [
        "\n",
        "Missing committee chairs (new year), still added.\n",
        "['2015 Read to Lead Development Council']\n",
        "--------------\n",
        "WARNING"
       ]
      },
      {
       "output_type": "stream",
       "stream": "stdout",
       "text": [
        "\n",
        "Missing committee chairs (new year), still added.\n",
        "['2015 Sporting Heritage Council']\n",
        "--------------\n",
        "WARNING"
       ]
      },
      {
       "output_type": "stream",
       "stream": "stdout",
       "text": [
        "\n",
        "Missing committee chairs (new year), still added.\n",
        "['2015 Midwestern Higher Education Commission']\n",
        "--------------\n"
       ]
      },
      {
       "metadata": {},
       "output_type": "pyout",
       "prompt_number": 1,
       "text": [
        "<getcommittee.GetCommittee at 0x105f0f690>"
       ]
      }
     ],
     "prompt_number": 1
    },
    {
     "cell_type": "code",
     "collapsed": false,
     "input": [
      "from gethouse import GetHouse\n",
      "GetHouse('assembly', 2015)\n",
      "# GetHouse('senate', 2017)"
     ],
     "language": "python",
     "metadata": {},
     "outputs": [
      {
       "output_type": "stream",
       "stream": "stdout",
       "text": [
        "99\n"
       ]
      },
      {
       "metadata": {},
       "output_type": "pyout",
       "prompt_number": 1,
       "text": [
        "<gethouse.GetHouse at 0x109bbd750>"
       ]
      }
     ],
     "prompt_number": 1
    },
    {
     "cell_type": "code",
     "collapsed": false,
     "input": [],
     "language": "python",
     "metadata": {},
     "outputs": [
      {
       "metadata": {},
       "output_type": "pyout",
       "prompt_number": 2,
       "text": [
        "[None, None, None, None, None, None, None, None, None]"
       ]
      }
     ],
     "prompt_number": 2
    },
    {
     "cell_type": "code",
     "collapsed": false,
     "input": [],
     "language": "python",
     "metadata": {},
     "outputs": []
    }
   ],
   "metadata": {}
  }
 ]
}