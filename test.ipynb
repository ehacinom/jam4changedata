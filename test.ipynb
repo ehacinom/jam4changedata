{
 "metadata": {
  "name": "",
  "signature": "sha256:2f2f52daad25518012cb1304ce724ec3cb52753dfd518335a56481c1f2bc480e"
 },
 "nbformat": 3,
 "nbformat_minor": 0,
 "worksheets": [
  {
   "cells": [
    {
     "cell_type": "code",
     "collapsed": false,
     "input": [
      "from getcommittee import GetCommittee\n",
      "GetCommittee()"
     ],
     "language": "python",
     "metadata": {},
     "outputs": [
      {
       "output_type": "stream",
       "stream": "stdout",
       "text": [
        "WARNING\n",
        "attribute error\n",
        "[u'2015 Read to Lead Development Council']\n",
        "2015 Read to Lead Development Council\n",
        "[u'2015 Read to Lead Development Council']\n",
        "--------------\n",
        "WARNING"
       ]
      },
      {
       "output_type": "stream",
       "stream": "stdout",
       "text": [
        "\n",
        "attribute error\n",
        "[u'2015 Sporting Heritage Council']\n",
        "2015 Sporting Heritage Council\n",
        "[u'2015 Sporting Heritage Council']\n",
        "--------------\n",
        "WARNING"
       ]
      },
      {
       "output_type": "stream",
       "stream": "stdout",
       "text": [
        "\n",
        "attribute error\n",
        "[u'2015 Midwestern Higher Education Commission']\n",
        "2015 Midwestern Higher Education Commission\n",
        "[u'2015 Midwestern Higher Education Commission']\n",
        "--------------\n",
        "WARNING"
       ]
      },
      {
       "output_type": "stream",
       "stream": "stdout",
       "text": [
        "\n",
        "attribute error\n",
        "[u'2015 University of Wisconsin Hospitals and Clinics Authority']\n",
        "2015 University of Wisconsin Hospitals and Clinics Authority\n",
        "[u'2015 University of Wisconsin Hospitals and Clinics Authority']\n",
        "--------------\n"
       ]
      },
      {
       "metadata": {},
       "output_type": "pyout",
       "prompt_number": 1,
       "text": [
        "<getcommittee.GetCommittee at 0x1084d4690>"
       ]
      }
     ],
     "prompt_number": 1
    }
   ],
   "metadata": {}
  }
 ]
}