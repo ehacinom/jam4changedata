{
 "metadata": {
  "name": "",
  "signature": "sha256:3891f658859afe329f5fcc9df8aeb6e1012cc169983af38819096ecf03099301"
 },
 "nbformat": 3,
 "nbformat_minor": 0,
 "worksheets": [
  {
   "cells": [
    {
     "cell_type": "code",
     "collapsed": false,
     "input": [
      "from getcommittee import GetCommittee\n",
      "GetCommittee()"
     ],
     "language": "python",
     "metadata": {},
     "outputs": [],
     "prompt_number": 1
    },
    {
     "cell_type": "code",
     "collapsed": false,
     "input": [],
     "language": "python",
     "metadata": {},
     "outputs": []
    }
   ],
   "metadata": {}
  }
 ]
}