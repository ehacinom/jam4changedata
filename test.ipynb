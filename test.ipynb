{
 "metadata": {
  "name": "",
  "signature": "sha256:cbd9e9cb6cc9df8036cf5266c6750819df689359236f70e071130c7df33de0d6"
 },
 "nbformat": 3,
 "nbformat_minor": 0,
 "worksheets": [
  {
   "cells": [
    {
     "cell_type": "code",
     "collapsed": false,
     "input": [
      "from getcommittee import GetCommittee\n",
      "GetCommittee()"
     ],
     "language": "python",
     "metadata": {},
     "outputs": [
      {
       "output_type": "stream",
       "stream": "stdout",
       "text": [
        "WARNING\n",
        "Missing info in get_committee_info, still added.\n",
        "[u'Study Committee on the Review of the Wisconsin Technical College System Funding and Governance', 'Joint', u'http://docs.legis.wisconsin.gov/2015/committees/joint/1387/020_march_18_2015_meeting/004_study_committee_on_the_review_of_wisconsin_technical_college_system_funding_and_governance_http_docs_legis_wisconsin_gov_misc_lc_study_2014_1193']\n",
        "--------------\n",
        "WARNING"
       ]
      },
      {
       "output_type": "stream",
       "stream": "stdout",
       "text": [
        "\n",
        "Missing info in get_committee_info, still added.\n",
        "[u'Special Committee on State-Tribal Relations', 'Joint', u'http://docs.legis.wisconsin.gov/2015/committees/joint/1387/020_march_18_2015_meeting/003_special_committee_on_state_tribal_relations_http_docs_legis_wisconsin_gov_misc_lc_study_2014_1198']\n",
        "--------------\n",
        "WARNING"
       ]
      },
      {
       "output_type": "stream",
       "stream": "stdout",
       "text": [
        "\n",
        "Missing info in get_committee_info, still added.\n",
        "[u'Study Committee on Transfer of Structured Settlement Payments', 'Joint', u'http://docs.legis.wisconsin.gov/2015/committees/joint/1387/020_march_18_2015_meeting/001_study_committee_on_transfer_of_structured_settlement_payments_http_docs_legis_wisconsin_gov_misc_lc_study_2014_1195']\n",
        "--------------\n",
        "WARNING"
       ]
      },
      {
       "output_type": "stream",
       "stream": "stdout",
       "text": [
        "\n",
        "Missing info in get_committee_info, still added.\n",
        "[u'Study Committee on the Review of Wisconsin Technical College System Funding and Governance', 'Joint', u'http://docs.legis.wisconsin.gov/2015/committees/joint/1387/020_march_18_2015_meeting/002_study_committee_on_review_of_criminal_penalties_http_docs_legis_wisconsin_gov_misc_lc_study_2014_1191']\n",
        "--------------\n",
        "WARNING"
       ]
      },
      {
       "output_type": "stream",
       "stream": "stdout",
       "text": [
        "\n",
        "Missing info in get_committee_info, still added.\n",
        "[u'Study Committee on the Review of Tax Incremental Financing', 'Joint', u'http://docs.legis.wisconsin.gov/2015/committees/joint/1387/010_february_11_2015_meeting/004_study_committee_on_the_review_of_tax_incremental_financing_http_docs_legis_wisconsin_gov_misc_lc_study_2014_1192']\n",
        "--------------\n",
        "WARNING"
       ]
      },
      {
       "output_type": "stream",
       "stream": "stdout",
       "text": [
        "\n",
        "Missing info in get_committee_info, still added.\n",
        "[u'Study Committee on Adoption Disruption and Dissolution', 'Joint', u'http://docs.legis.wisconsin.gov/2015/committees/joint/1387/010_february_11_2015_meeting/003_study_committee_on_adoption_disruption_and_dissolution_http_docs_legis_wisconsin_gov_misc_lc_study_2014_1189']\n",
        "--------------\n",
        "WARNING"
       ]
      },
      {
       "output_type": "stream",
       "stream": "stdout",
       "text": [
        "\n",
        "Missing info in get_committee_info, still added.\n",
        "[u'Study Committee on Problem-Solving Courts, Alternatives, and Diversions', 'Joint', u'http://docs.legis.wisconsin.gov/2015/committees/joint/1387/010_february_11_2015_meeting/002_study_committee_on_problem_solving_courts_alternatives_and_diversions_http_docs_legis_wisconsin_gov_misc_lc_study_2014_1190']\n",
        "--------------\n",
        "WARNING"
       ]
      },
      {
       "output_type": "stream",
       "stream": "stdout",
       "text": [
        "\n",
        "Missing info in get_committee_info, still added.\n",
        "[u'Study Committee on the Student Achievement in Education (SAGE) Program', 'Joint', u'http://docs.legis.wisconsin.gov/2015/committees/joint/1387/010_february_11_2015_meeting/001_study_committee_on_the_student_achievement_in_education_sage_program_http_docs_legis_wisconsin_gov_misc_lc_study_2014_1194']\n",
        "--------------\n",
        "WARNING"
       ]
      },
      {
       "output_type": "stream",
       "stream": "stdout",
       "text": [
        "\n",
        "Missing committee chairs (new year), still added.\n",
        "['2015 University of Wisconsin Hospitals and Clinics Authority']\n",
        "--------------\n",
        "WARNING"
       ]
      },
      {
       "output_type": "stream",
       "stream": "stdout",
       "text": [
        "\n",
        "Missing committee chairs (new year), still added.\n",
        "['2015 Read to Lead Development Council']\n",
        "--------------\n",
        "WARNING"
       ]
      },
      {
       "output_type": "stream",
       "stream": "stdout",
       "text": [
        "\n",
        "Missing committee chairs (new year), still added.\n",
        "['2015 Sporting Heritage Council']\n",
        "--------------\n",
        "WARNING"
       ]
      },
      {
       "output_type": "stream",
       "stream": "stdout",
       "text": [
        "\n",
        "Missing committee chairs (new year), still added.\n",
        "['2015 Midwestern Higher Education Commission']\n",
        "--------------\n"
       ]
      },
      {
       "metadata": {},
       "output_type": "pyout",
       "prompt_number": 1,
       "text": [
        "<getcommittee.GetCommittee at 0x105f0f690>"
       ]
      }
     ],
     "prompt_number": 1
    },
    {
     "cell_type": "code",
     "collapsed": false,
     "input": [
      "GetHouse('assembly', 2015)"
     ],
     "language": "python",
     "metadata": {},
     "outputs": [
      {
       "output_type": "stream",
       "stream": "stdout",
       "text": [
        "99\n"
       ]
      },
      {
       "metadata": {},
       "output_type": "pyout",
       "prompt_number": 1,
       "text": [
        "<gethouse.GetHouse at 0x109bbd750>"
       ]
      }
     ],
     "prompt_number": 1
    },
    {
     "cell_type": "code",
     "collapsed": false,
     "input": [
      "from gethouse import GetHouse\n",
      "# GetHouse('assembly', 2015)\n",
      "GetHouse('senate', 2017)"
     ],
     "language": "python",
     "metadata": {},
     "outputs": [
      {
       "output_type": "stream",
       "stream": "stdout",
       "text": [
        "WARNING\n",
        "No data parsed for representative. No regex match.\n",
        "Adding it in for now because I want happiness for\n",
        "my var house and therefore my indexing ID.\n",
        "http://docs.legis.wisconsin.gov/2017/legislators/senate/1644\n",
        "\n",
        "\n",
        "\n",
        "\n",
        "Senator Dan Feyen\n",
        "\n",
        "Senate District 18 \n",
        "\n",
        "District map based on 2011 Wisconsin Act 43\n",
        "\n",
        "Subscribe to updates via Notify  \n",
        "2017 authored proposals feed \n",
        "\n",
        "2017 all related items feed \n",
        "\n",
        "2017 author index\n",
        "\n",
        "Historical information\n",
        "\n",
        "\n",
        "Madison Office:\n",
        "          Room 306 SouthState CapitolMadison, WI 53707-7882\n",
        "      \n",
        "Telephone:\n",
        "          (608) 266-5300\n",
        "\n",
        "Email:\n",
        "Sen.Feyen@legis.wi.gov\n",
        "\n",
        "Voting Address:\n",
        "          PO Box 1768Fond du Lac, WI 54936\n",
        "      \n",
        "Staff:\n",
        "Rohn Bishop\n",
        "Rohn.Bishop@legis.wisconsin.gov\n",
        "\n",
        "Marie Jolly\n",
        "Marie.Jolly@legis.wisconsin.gov\n",
        "\n",
        "Tim Lakin\n",
        "Tim.Lakin@legis.wisconsin.gov\n",
        "\n",
        "Gregory Quella\n",
        "Gregory.Quella@legis.wisconsin.gov\n",
        "\n",
        "\n",
        "\n",
        "Current Committees\n",
        "Committee on Economic Development, Commerce and Local Government (Chair)\n",
        "Committee on Financial Services, Constitution and Federalism\n",
        "Committee on Universities and Technical Colleges\n",
        "Committee on Workforce Development, Military Affairs and Senior Issues (Vice-Chair)\n",
        "Joint Survey Committee on Tax Exemptions (Co-Chair)\n",
        "\n",
        "\n",
        "Biography\n",
        "Member of Wisconsin Economic Development Corporation\n",
        "\n",
        "\n",
        "\n",
        "--------------\n",
        "WARNING"
       ]
      },
      {
       "output_type": "stream",
       "stream": "stdout",
       "text": [
        "\n",
        "No data parsed for representative. No regex match.\n",
        "Adding it in for now because I want happiness for\n",
        "my var house and therefore my indexing ID.\n",
        "http://docs.legis.wisconsin.gov/2017/legislators/senate/1645\n",
        "\n",
        "\n",
        "\n",
        "\n",
        "Senator Patrick Testin\n",
        "\n",
        "Senate District 24 \n",
        "\n",
        "District map based on 2011 Wisconsin Act 43\n",
        "\n",
        "Subscribe to updates via Notify  \n",
        "2017 authored proposals feed \n",
        "\n",
        "2017 all related items feed \n",
        "\n",
        "2017 author index\n",
        "\n",
        "Historical information\n",
        "\n",
        "\n",
        "Madison Office:\n",
        "          Room 131 SouthState CapitolMadison, WI 53707-7882\n",
        "      \n",
        "Telephone:\n",
        "          (608) 266-3123\n",
        "\n",
        "Email:\n",
        "Sen.Testin@legis.wi.gov\n",
        "\n",
        "Voting Address:\n",
        "          5369 Fairview DriveStevens Point, WI 54482\n",
        "      \n",
        "Staff:\n",
        "Natalie Aicher\n",
        "Natalie.Aicher@legis.wisconsin.gov\n",
        "\n",
        "James Emerson\n",
        "James.Emerson@legis.wisconsin.gov\n",
        "\n",
        "Jeff Schultz\n",
        "Jeff.Schultz@legis.wisconsin.gov\n",
        "\n",
        "Matt Spencer\n",
        "Matt.Spencer@legis.wisconsin.gov\n",
        "\n",
        "\n",
        "\n",
        "Current Committees\n",
        "Committee on Agriculture, Small Business and Tourism\n",
        "Committee on Economic Development, Commerce and Local Government\n",
        "Committee on Sporting Heritage, Mining and Forestry (Vice-Chair)\n",
        "Committee on Workforce Development, Military Affairs and Senior Issues (Chair)\n",
        "Joint Survey Committee on Retirement Systems (Co-Chair)\n",
        "\n",
        "\n",
        "\n",
        "--------------\n",
        "33"
       ]
      },
      {
       "output_type": "stream",
       "stream": "stdout",
       "text": [
        "\n"
       ]
      },
      {
       "metadata": {},
       "output_type": "pyout",
       "prompt_number": 1,
       "text": [
        "<gethouse.GetHouse at 0x10e5317d0>"
       ]
      }
     ],
     "prompt_number": 1
    },
    {
     "cell_type": "code",
     "collapsed": false,
     "input": [],
     "language": "python",
     "metadata": {},
     "outputs": []
    }
   ],
   "metadata": {}
  }
 ]
}