{
 "metadata": {
  "name": "",
  "signature": "sha256:407f09b9ab3b49a0e384bdb10bd9d0c3620ada8372174a9878b122866915f104"
 },
 "nbformat": 3,
 "nbformat_minor": 0,
 "worksheets": [
  {
   "cells": [
    {
     "cell_type": "code",
     "collapsed": false,
     "input": [
      "import urllib\n",
      "import xml\n",
      "from xml.dom import minidom\n",
      "import xmltodict"
     ],
     "language": "python",
     "metadata": {},
     "outputs": [],
     "prompt_number": 1
    },
    {
     "cell_type": "code",
     "collapsed": false,
     "input": [
      "def load_txt(url):\n",
      "    # load txt\n",
      "    fp = urllib.urlopen(url)\n",
      "    text = fp.read()\n",
      "    fp.close()\n",
      "    \n",
      "    # should do some error catching here\n",
      "    # find format of data through testing\n",
      "    x = xmltodict.parse(text)['rss']['channel']['item'] # list of OrderedDict\n",
      "    \n",
      "    for a in x:\n",
      "        for b in a.items():\n",
      "            print b\n",
      "        print \"\\n\"\n",
      "    \n",
      "    return text"
     ],
     "language": "python",
     "metadata": {},
     "outputs": [],
     "prompt_number": 40
    },
    {
     "cell_type": "code",
     "collapsed": false,
     "input": [
      "url = 'http://docs.legis.wisconsin.gov/feed/2015/committees/other'\n",
      "x = load_txt(url)"
     ],
     "language": "python",
     "metadata": {},
     "outputs": [
      {
       "output_type": "stream",
       "stream": "stdout",
       "text": [
        "(u'guid', OrderedDict([(u'@isPermaLink', u'false'), ('#text', u'5b7a05a6-a615-4dd9-94d6-7346f51a1363')]))\n",
        "(u'link', u'http://docs.legis.wisconsin.gov/document/committee/2015/1475')\n",
        "(u'title', u'University of Wisconsin Hospitals and Clinics Authority - 2016-12-17')\n",
        "(u'description', u'University of Wisconsin Hospitals and Clinics Authority')\n",
        "(u'pubDate', u'Sat, 17 Dec 2016 07:35:58 -0600')\n",
        "(u'a10:updated', u'2016-12-17T07:35:58-06:00')\n",
        "\n",
        "\n",
        "(u'guid', OrderedDict([(u'@isPermaLink', u'false'), ('#text', u'04e9dede-bb06-4bec-b1e5-03cf46d90a0a')]))\n",
        "(u'link', u'http://docs.legis.wisconsin.gov/document/committee/2015/1477')\n",
        "(u'title', u'Read to Lead Development Council - 2016-12-17')\n",
        "(u'description', u'Read to Lead Development Council')\n",
        "(u'pubDate', u'Sat, 17 Dec 2016 07:35:58 -0600')\n",
        "(u'a10:updated', u'2016-12-17T07:35:58-06:00')\n",
        "\n",
        "\n",
        "(u'guid', OrderedDict([(u'@isPermaLink', u'false'), ('#text', u'418e2989-f9a6-425b-beab-d516e1d803f2')]))\n",
        "(u'link', u'http://docs.legis.wisconsin.gov/document/committee/2015/1476')\n",
        "(u'title', u'Sporting Heritage Council - 2016-12-17')\n",
        "(u'description', u'Sporting Heritage Council')\n",
        "(u'pubDate', u'Sat, 17 Dec 2016 07:35:58 -0600')\n",
        "(u'a10:updated', u'2016-12-17T07:35:58-06:00')\n",
        "\n",
        "\n",
        "(u'guid', OrderedDict([(u'@isPermaLink', u'false'), ('#text', u'fc5e1253-b335-4074-9de9-362b6999cfd9')]))\n",
        "(u'link', u'http://docs.legis.wisconsin.gov/document/committee/2015/1478')\n",
        "(u'title', u'Midwestern Higher Education Commission - 2016-12-17')\n",
        "(u'description', u'Midwestern Higher Education Commission')\n",
        "(u'pubDate', u'Sat, 17 Dec 2016 07:35:58 -0600')\n",
        "(u'a10:updated', u'2016-12-17T07:35:58-06:00')\n",
        "\n",
        "\n",
        "(u'guid', OrderedDict([(u'@isPermaLink', u'false'), ('#text', u'e880d89c-ea5d-4053-89a6-4dad023f1d90')]))\n",
        "(u'link', u'http://docs.legis.wisconsin.gov/2015/committees/other')\n",
        "(u'title', u'Other Committees - 2016-12-17')\n",
        "(u'description', None)\n",
        "(u'pubDate', u'Sat, 17 Dec 2016 00:00:00 -0600')\n",
        "(u'a10:updated', u'2016-12-17T00:00:00-06:00')\n",
        "\n",
        "\n"
       ]
      }
     ],
     "prompt_number": 41
    },
    {
     "cell_type": "code",
     "collapsed": false,
     "input": [],
     "language": "python",
     "metadata": {},
     "outputs": []
    }
   ],
   "metadata": {}
  }
 ]
}